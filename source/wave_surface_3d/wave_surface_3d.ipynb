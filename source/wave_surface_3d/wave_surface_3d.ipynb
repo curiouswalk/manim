{
  "cells": [
    {
      "cell_type": "markdown",
      "metadata": {
        "id": "view-in-github",
        "colab_type": "text"
      },
      "source": [
        "<a href=\"https://colab.research.google.com/github/curiouswalk/manim/blob/main/source/wave_surface_3d/wave_surface_3d.ipynb\" target=\"_parent\"><img src=\"https://colab.research.google.com/assets/colab-badge.svg\" alt=\"Open In Colab\"/></a>"
      ]
    },
    {
      "cell_type": "markdown",
      "metadata": {
        "id": "e6TdiMaLSLci"
      },
      "source": [
        "# CuriousWalk\n",
        "#### [`www.curiouswalk.com`](https://www.curiouswalk.com)\n",
        "#### [`link.curiouswalk.com/manim`](https://link.curiouswalk.com/manim)"
      ]
    },
    {
      "cell_type": "markdown",
      "metadata": {
        "id": "g_1nzpjFLCNf"
      },
      "source": [
        "# Manim\n",
        "\n",
        "Manim is an engine for precise programmatic animations, designed for creating explanatory math videos.\n",
        "\n",
        "> The Manim Community Developers. (2024). Manim – Mathematical Animation Framework (Version v0.18.0) [Computer software].  [www.manim.community](https://www.manim.community/)"
      ]
    },
    {
      "cell_type": "markdown",
      "metadata": {
        "id": "2y3NzK9EKMX5"
      },
      "source": [
        "# Setup\n",
        "\n",
        "[Installation Guide](https://docs.manim.community/en/stable/installation.html)\n",
        "\n",
        "Run this cell to get started."
      ]
    },
    {
      "cell_type": "code",
      "execution_count": null,
      "metadata": {
        "id": "0JEfE0XMKGpl"
      },
      "outputs": [],
      "source": [
        "from IPython.display import clear_output\n",
        "\n",
        "!sudo apt update\n",
        "\n",
        "!sudo apt install libcairo2-dev libpango1.0-dev ffmpeg\n",
        "\n",
        "# # LaTeX installation\n",
        "# !sudo apt install texlive texlive-latex-extra\n",
        "\n",
        "# # LaTeX additional packages\n",
        "# !sudo apt install texlive-science texlive-fonts-extra\n",
        "\n",
        "!pip install manim\n",
        "\n",
        "clear_output() # clears cell output\n",
        "\n",
        "!manim --version\n",
        "\n",
        "exit() # restarts runtime"
      ]
    },
    {
      "cell_type": "markdown",
      "metadata": {
        "id": "_Os8BXq_VrBt"
      },
      "source": [
        "# Imports"
      ]
    },
    {
      "cell_type": "code",
      "execution_count": null,
      "metadata": {
        "id": "YRPPOIftWHEV"
      },
      "outputs": [],
      "source": [
        "from manim import *\n",
        "config.disable_caching = True"
      ]
    },
    {
      "cell_type": "markdown",
      "metadata": {
        "id": "hACC1RhFcoH8"
      },
      "source": [
        "# Example\n",
        "\n",
        "```python\n",
        "%%manim -ql NewScene\n",
        "class NewScene(Scene):\n",
        "    def construct(self):\n",
        "      ...  \n",
        "```\n",
        "\n",
        "The first line of code, `%%manim -ql NewScene` is a magic command, it only works within Jupyter notebooks. The flag `-ql` specifies low render quality (480p, 15fps), followed by the name of the scene class.\n",
        "\n",
        "The other options for render quality are `-qm`, `-qh`, and `-qk` for medium (720p, 30fps), high (1080p, 60fps), and 4k (2160p, 60fps) quality, respectively.\n",
        "\n",
        "This animation expands Manim's logo into its banner.  [[source]](https://docs.manim.community/en/stable/reference/manim.mobject.logo.ManimBanner.html)"
      ]
    },
    {
      "cell_type": "code",
      "execution_count": null,
      "metadata": {
        "id": "bN7o0aSeVqpX"
      },
      "outputs": [],
      "source": [
        "%%manim -ql DarkThemeBanner\n",
        "\n",
        "class DarkThemeBanner(Scene):\n",
        "    def construct(self):\n",
        "        banner = ManimBanner()\n",
        "        self.play(banner.create())\n",
        "        self.play(banner.expand())\n",
        "        self.wait()"
      ]
    },
    {
      "cell_type": "markdown",
      "metadata": {
        "id": "ROcm1JImGm18"
      },
      "source": [
        "# Wave Animation\n",
        "### 3D Manim Scene"
      ]
    },
    {
      "cell_type": "markdown",
      "metadata": {
        "id": "M9qszjxOGwvG"
      },
      "source": [
        "## RadialWave\n",
        "\n",
        "The `RadialWave` class is taken from `manim-physics` plugin. [[source]](https://manim-physics.readthedocs.io/en/latest/_modules/manim_physics/wave.html#RadialWave)\n",
        "\n",
        ">**Manim Physics** is a 2D physics simulation plugin for Manim that allows for making complicated scenes in various branches of Physics such as rigid mechanics, electromagnetism, wave, etc.\n",
        ">\n",
        ">[https://manim-physics.readthedocs.io/en/latest/](https://manim-physics.readthedocs.io/en/latest/)"
      ]
    },
    {
      "cell_type": "code",
      "execution_count": null,
      "metadata": {
        "id": "UZUYUHP8HycE"
      },
      "outputs": [],
      "source": [
        "class RadialWave(Surface):\n",
        "    def __init__(\n",
        "        self,\n",
        "        *sources, # sources of disturbance (locations)\n",
        "        wavelength: float = 1,\n",
        "        period: float = 1,\n",
        "        amplitude: float = 0.1,\n",
        "        x_range = [-5, 5],\n",
        "        y_range = [-5, 5],\n",
        "        **kwargs,\n",
        "    ) -> None:\n",
        "\n",
        "        self.wavelength = wavelength\n",
        "        self.period = period\n",
        "        self.amplitude = amplitude\n",
        "        self.time = 0\n",
        "        self.kwargs = kwargs\n",
        "        self.sources = sources\n",
        "\n",
        "        super().__init__(\n",
        "            lambda u, v: np.array([u, v, self._wave_z(u, v, sources)]),\n",
        "            u_range=x_range,\n",
        "            v_range=y_range,\n",
        "            **kwargs,\n",
        "        )\n",
        "\n",
        "    def _wave_z(self, u: float, v: float, sources) -> float:\n",
        "        z = 0\n",
        "        for source in sources:\n",
        "            x0, y0, _ = source\n",
        "            z += self.amplitude * np.sin(\n",
        "                (2 * PI / self.wavelength) * ((u - x0) ** 2 + (v - y0) ** 2) ** 0.5\n",
        "                - 2 * PI * self.time / self.period\n",
        "            )\n",
        "        return z\n",
        "\n",
        "    def _update_wave(self, mob: Mobject, dt: float) -> None:\n",
        "        self.time += dt\n",
        "        mob.match_points(\n",
        "            Surface(\n",
        "                lambda u, v: np.array([u, v, self._wave_z(u, v, self.sources)]),\n",
        "                u_range=self.u_range,\n",
        "                v_range=self.v_range,\n",
        "                **self.kwargs,\n",
        "            )\n",
        "        )\n",
        "\n",
        "    def start_wave(self):\n",
        "        \"\"\"Animate the wave propagation.\"\"\"\n",
        "        self.add_updater(self._update_wave)\n",
        "\n",
        "    def stop_wave(self):\n",
        "        \"\"\"Stop animating the wave propagation.\"\"\"\n",
        "        self.remove_updater(self._update_wave)\n",
        "\n"
      ]
    },
    {
      "cell_type": "markdown",
      "metadata": {
        "id": "-x4uIVh9MmCo"
      },
      "source": [
        "# Scene 1\n",
        "Wave Transformation"
      ]
    },
    {
      "cell_type": "code",
      "execution_count": null,
      "metadata": {
        "id": "PRrMDdIVMzFU"
      },
      "outputs": [],
      "source": [
        "%%manim -ql WaveTransform\n",
        "\n",
        "class WaveTransform(ThreeDScene):\n",
        "    def construct(self):\n",
        "\n",
        "        self.set_camera_orientation(30 * DEGREES, 45 * DEGREES, zoom=2)\n",
        "\n",
        "        surface = RadialWave(\n",
        "            checkerboard_colors= [\"#107ab0\"],\n",
        "            stroke_width=2,\n",
        "            stroke_color= \"#280137\")\n",
        "\n",
        "        wave = RadialWave(\n",
        "            ORIGIN,\n",
        "            period=2,\n",
        "            amplitude=.2,\n",
        "            checkerboard_colors= [\"#107ab0\"],\n",
        "            stroke_width=2,\n",
        "            stroke_color= \"#280137\")\n",
        "\n",
        "        self.add(surface)\n",
        "\n",
        "        self.wait()\n",
        "\n",
        "        self.play(ReplacementTransform(surface, wave))\n",
        "        wave.start_wave()\n",
        "\n",
        "        self.wait(4)\n",
        "        wave.stop_wave()\n"
      ]
    },
    {
      "cell_type": "markdown",
      "metadata": {
        "id": "N58oLxyuOeuY"
      },
      "source": [
        "# Scene 2\n",
        "\n",
        "Color Change & Camera Rotation"
      ]
    },
    {
      "cell_type": "code",
      "execution_count": null,
      "metadata": {
        "id": "yKOVDpFOe8Hd"
      },
      "outputs": [],
      "source": [
        "%%manim -ql ColorChangeImg\n",
        "\n",
        "class ColorChangeImg(ThreeDScene):\n",
        "    def construct(self):\n",
        "\n",
        "        self.set_camera_orientation(60 * DEGREES, 0 * DEGREES)\n",
        "\n",
        "        wave = RadialWave(\n",
        "            ORIGIN,\n",
        "            period=2,\n",
        "            checkerboard_colors=[BLACK, WHITE],\n",
        "            stroke_width=2,\n",
        "            stroke_color=BLACK,\n",
        "        )\n",
        "\n",
        "        self.add(wave)"
      ]
    },
    {
      "cell_type": "code",
      "execution_count": null,
      "metadata": {
        "id": "hw51xJbWZf1N"
      },
      "outputs": [],
      "source": [
        "%%manim -ql ColorChange\n",
        "\n",
        "class ColorChange(ThreeDScene):\n",
        "    def construct(self):\n",
        "\n",
        "        self.set_camera_orientation(60 * DEGREES, 0 * DEGREES)\n",
        "\n",
        "        wave = RadialWave(\n",
        "            ORIGIN,\n",
        "            period=2,\n",
        "            checkerboard_colors=[\"#107ab0\"],\n",
        "            stroke_width=2,\n",
        "            stroke_color=\"#280137\",\n",
        "        )\n",
        "\n",
        "        self.add(wave)\n",
        "\n",
        "        self.wait(1.5)\n",
        "\n",
        "        self.play(\n",
        "            wave.animate(run_time=1.5)\n",
        "            .set_fill_by_checkerboard(BLACK)\n",
        "            .set_stroke(WHITE)\n",
        "        )\n",
        "\n",
        "        self.wait(1.5)\n",
        "\n",
        "        self.play(\n",
        "            wave.animate(run_time=1.5)\n",
        "            .set_fill_by_checkerboard(BLACK, WHITE)\n",
        "            .set_stroke(BLACK)\n",
        "        )\n",
        "\n",
        "        self.wait(1.5)\n",
        "\n",
        "        self.play(\n",
        "            wave.animate(run_time=1.5).set_fill_by_checkerboard(\n",
        "                \"#8d2653\", \"#538d26\", \"#26538d\"\n",
        "            )\n",
        "        )\n",
        "\n",
        "        self.wait(1.5)\n"
      ]
    },
    {
      "cell_type": "code",
      "execution_count": null,
      "metadata": {
        "id": "0yql0oN5NGFY"
      },
      "outputs": [],
      "source": [
        "%%manim -ql ColorChangeAndRotate\n",
        "\n",
        "class ColorChangeAndRotate(ThreeDScene):\n",
        "    def construct(self):\n",
        "\n",
        "        self.set_camera_orientation(60 * DEGREES, 0 * DEGREES)\n",
        "\n",
        "        wave = RadialWave(\n",
        "            ORIGIN,\n",
        "            period=2,\n",
        "            checkerboard_colors=[BLACK],\n",
        "            stroke_width=2,\n",
        "            stroke_color=WHITE,\n",
        "        )\n",
        "\n",
        "        self.add(wave)\n",
        "\n",
        "        wave.start_wave()\n",
        "\n",
        "        self.play(\n",
        "            self.camera.theta_tracker.animate(rate_func=linear, run_time=2).set_value(\n",
        "                PI * 0.25\n",
        "            )\n",
        "        )\n",
        "\n",
        "        self.play(\n",
        "            wave.animate.set_fill_by_checkerboard(BLACK, WHITE).set_stroke(BLACK),\n",
        "            self.camera.theta_tracker.animate(rate_func=linear, run_time=2).set_value(\n",
        "                PI * 0.5\n",
        "            ),\n",
        "        )\n",
        "\n",
        "        self.play(\n",
        "            wave.animate.set_fill_by_checkerboard(\"#8d2653\", \"#538d26\", \"#26538d\"),\n",
        "            self.camera.theta_tracker.animate(rate_func=linear, run_time=2).set_value(\n",
        "                PI * 0.75\n",
        "            ),\n",
        "        )\n",
        "\n",
        "        self.play(\n",
        "            self.camera.theta_tracker.animate(rate_func=linear, run_time=2).set_value(\n",
        "                PI\n",
        "            )\n",
        "        )\n",
        "\n",
        "        wave.stop_wave()\n"
      ]
    },
    {
      "cell_type": "markdown",
      "metadata": {
        "id": "miegHx8KP3lg"
      },
      "source": [
        "# Scene 3\n",
        "Single Source of Disturbance"
      ]
    },
    {
      "cell_type": "code",
      "execution_count": null,
      "metadata": {
        "id": "tV7EPdK7i-_r"
      },
      "outputs": [],
      "source": [
        "%%manim -ql SingleSourceImg\n",
        "\n",
        "class SingleSourceImg(ThreeDScene):\n",
        "    def construct(self):\n",
        "\n",
        "        points = (UL, UR, DL, DR)  # source location\n",
        "\n",
        "        circle = Circle(0.75, color=\"#ff073a\", fill_opacity=0.5)\n",
        "\n",
        "        waves = VGroup()\n",
        "\n",
        "        for i in points:\n",
        "\n",
        "            pos = i * 2.5\n",
        "\n",
        "            waves.add(\n",
        "                RadialWave(\n",
        "                    pos,\n",
        "                    checkerboard_colors=[\"#107ab0\"],\n",
        "                    stroke_width=1,\n",
        "                    stroke_color=\"#280137\",\n",
        "                ).add(circle.copy().move_to(pos))\n",
        "            )\n",
        "\n",
        "        waves.arrange_in_grid(2, 2)\n",
        "\n",
        "        self.set_camera_orientation(zoom=config.frame_height / waves.height)\n",
        "\n",
        "        self.add(waves)\n"
      ]
    },
    {
      "cell_type": "code",
      "execution_count": null,
      "metadata": {
        "id": "R3ft1DZOSjvQ"
      },
      "outputs": [],
      "source": [
        "%%manim -ql OneSource\n",
        "\n",
        "class OneSource(ThreeDScene):\n",
        "    def construct(self):\n",
        "\n",
        "        self.set_camera_orientation(60 * DEGREES, 45 * DEGREES)\n",
        "\n",
        "        point = UR * 2.5  # source location\n",
        "\n",
        "        circle = Circle(0.75, color=\"#ff073a\", fill_opacity=0.5).move_to(point)\n",
        "\n",
        "        wave = RadialWave(\n",
        "            point,\n",
        "            period=2,\n",
        "            checkerboard_colors=[\"#107ab0\"],\n",
        "            stroke_width=2,\n",
        "            stroke_color=\"#280137\",\n",
        "        )\n",
        "\n",
        "        self.add(circle, wave)\n",
        "\n",
        "        wave.start_wave()\n",
        "\n",
        "        self.play(FadeOut(circle, scale=0))\n",
        "\n",
        "        self.wait(3)\n",
        "\n",
        "        wave.stop_wave()\n"
      ]
    },
    {
      "cell_type": "markdown",
      "metadata": {
        "id": "xZvKPzsjR3CP"
      },
      "source": [
        "# Scene 4\n",
        "Multiple Sources of Disturbance"
      ]
    },
    {
      "cell_type": "code",
      "execution_count": null,
      "metadata": {
        "id": "20PSDYVrfZnv"
      },
      "outputs": [],
      "source": [
        "%%manim -ql TwoSourceImg\n",
        "\n",
        "class TwoSourceImg(ThreeDScene):\n",
        "    def construct(self):\n",
        "\n",
        "        self.set_camera_orientation(60 * DEGREES, 45 * DEGREES)\n",
        "\n",
        "        points = (UR * 2 + RIGHT * 1.5, UR * 2 + UP * 1.5)\n",
        "        colors = (\"#0cff0c\", \"#ff073a\")\n",
        "\n",
        "        circles = VGroup()\n",
        "\n",
        "        for p, c in zip(points, colors):\n",
        "            circles.add(Circle(0.75, color=c, fill_opacity=0.5).move_to(p))\n",
        "\n",
        "        wave = RadialWave(\n",
        "            points[0],\n",
        "            points[1],\n",
        "            period=2,\n",
        "            checkerboard_colors=[\"#107ab0\"],\n",
        "            stroke_width=2,\n",
        "            stroke_color=\"#280137\",\n",
        "        )\n",
        "\n",
        "        self.add(wave, circles)\n"
      ]
    },
    {
      "cell_type": "code",
      "execution_count": null,
      "metadata": {
        "id": "rRYOSN262egX"
      },
      "outputs": [],
      "source": [
        "%%manim -ql TwoSource\n",
        "\n",
        "class TwoSource(ThreeDScene):\n",
        "    def construct(self):\n",
        "\n",
        "        self.set_camera_orientation(60 * DEGREES, 45 * DEGREES)\n",
        "\n",
        "        points = (UR * 2 + RIGHT * 1.5, UR * 2 + UP * 1.5)\n",
        "        colors = (\"#0cff0c\", \"#ff073a\")\n",
        "\n",
        "        circles = VGroup()\n",
        "\n",
        "        for p, c in zip(points, colors):\n",
        "            circles.add(Circle(0.75, color=c, fill_opacity=0.5).move_to(p))\n",
        "\n",
        "        wave = RadialWave(\n",
        "            points[0],\n",
        "            points[1],\n",
        "            period=2,\n",
        "            checkerboard_colors=[\"#107ab0\"],\n",
        "            stroke_width=2,\n",
        "            stroke_color=\"#280137\",\n",
        "        )\n",
        "\n",
        "        self.add(wave, circles)\n",
        "\n",
        "        self.wait()\n",
        "\n",
        "        wave.start_wave()\n",
        "\n",
        "        self.play(*[FadeOut(cir, scale=0) for cir in circles])\n",
        "\n",
        "        self.wait(3)\n",
        "\n",
        "        wave.stop_wave()\n"
      ]
    },
    {
      "cell_type": "code",
      "execution_count": null,
      "metadata": {
        "id": "uRUcfs-X80Ta"
      },
      "outputs": [],
      "source": [
        "%%manim -ql ThreeSourceImg\n",
        "\n",
        "class ThreeSourceImg(ThreeDScene):\n",
        "    def construct(self):\n",
        "\n",
        "        self.set_camera_orientation(60 * DEGREES, 45 * DEGREES)\n",
        "\n",
        "        points = (DL * 2, DOWN * 1.5, LEFT * 1.5)\n",
        "\n",
        "        colors = (\"#ff073a\", \"#0cff0c\", \"#fd3c06\")\n",
        "\n",
        "        circles = VGroup()\n",
        "\n",
        "        for p, c in zip(points, colors):\n",
        "            circles.add(Circle(0.75, color=c, fill_opacity=0.5).move_to(p))\n",
        "\n",
        "        wave = RadialWave(\n",
        "            points[0],\n",
        "            points[1],\n",
        "            period=2,\n",
        "            checkerboard_colors=[\"#107ab0\"],\n",
        "            stroke_width=2,\n",
        "            stroke_color=\"#280137\",\n",
        "        )\n",
        "\n",
        "        self.add(wave, circles)\n"
      ]
    },
    {
      "cell_type": "code",
      "execution_count": null,
      "metadata": {
        "id": "F3O6aflOAPFc"
      },
      "outputs": [],
      "source": [
        "%%manim -ql ThreeSource\n",
        "\n",
        "class ThreeSource(ThreeDScene):\n",
        "    def construct(self):\n",
        "\n",
        "        self.set_camera_orientation(60 * DEGREES, 45 * DEGREES)\n",
        "\n",
        "        points = (DL * 2, DOWN * 1.5, LEFT * 1.5)\n",
        "        colors = (\"#ff073a\", \"#0cff0c\", \"#fd3c06\")\n",
        "\n",
        "        circles = VGroup()\n",
        "\n",
        "        for p, c in zip(points, colors):\n",
        "            circles.add(Circle(0.75, color=c, fill_opacity=0.5).move_to(p))\n",
        "\n",
        "        wave = RadialWave(\n",
        "            points[0],\n",
        "            points[1],\n",
        "            period=2,\n",
        "            checkerboard_colors=[\"#107ab0\"],\n",
        "            stroke_width=2,\n",
        "            stroke_color=\"#280137\",\n",
        "        )\n",
        "\n",
        "        self.add(wave, circles)\n",
        "\n",
        "        self.wait()\n",
        "\n",
        "        wave.start_wave()\n",
        "\n",
        "        self.play(*[FadeOut(cir, scale=0) for cir in circles])\n",
        "\n",
        "        self.wait(3)\n",
        "\n",
        "        wave.stop_wave()\n"
      ]
    }
  ],
  "metadata": {
    "colab": {
      "provenance": [],
      "authorship_tag": "ABX9TyOFDBpX3VCa9WCVISgqeh0Y",
      "include_colab_link": true
    },
    "kernelspec": {
      "display_name": "Python 3",
      "name": "python3"
    },
    "language_info": {
      "name": "python"
    }
  },
  "nbformat": 4,
  "nbformat_minor": 0
}
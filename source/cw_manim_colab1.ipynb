{
  "nbformat": 4,
  "nbformat_minor": 0,
  "metadata": {
    "colab": {
      "provenance": [],
      "authorship_tag": "ABX9TyOzKT6y9rax2x4WvKHdW7rE",
      "include_colab_link": true
    },
    "kernelspec": {
      "name": "python3",
      "display_name": "Python 3"
    },
    "language_info": {
      "name": "python"
    }
  },
  "cells": [
    {
      "cell_type": "markdown",
      "metadata": {
        "id": "view-in-github",
        "colab_type": "text"
      },
      "source": [
        "<a href=\"https://colab.research.google.com/github/curiouswalk/manim/blob/main/source/cw_manim_colab.ipynb\" target=\"_parent\"><img src=\"https://colab.research.google.com/assets/colab-badge.svg\" alt=\"Open In Colab\"/></a>"
      ]
    },
    {
      "cell_type": "markdown",
      "source": [
        "# Curious Walk\n",
        "### Find us on [link.curiouswalk.com/sites](https://link.curiouswalk.com/sites)\n",
        "#### Share this [link.curiouswalk.com/manim/colab](https://link.curiouswalk.com/manim/colab)"
      ],
      "metadata": {
        "id": "e6TdiMaLSLci"
      }
    },
    {
      "cell_type": "markdown",
      "source": [
        "## Manim Community Edition\n",
        "\n",
        "Manim is an engine for precise programmatic animations, designed for creating explanatory math videos.\n",
        "\n",
        "The Manim Community Developers. (2024). Manim – Mathematical Animation Framework (Version v0.18.0) [Computer software]. https://www.manim.community/"
      ],
      "metadata": {
        "id": "g_1nzpjFLCNf"
      }
    },
    {
      "cell_type": "markdown",
      "source": [
        "# Setup\n",
        "Run the cell below to get started.\n",
        "\n",
        "*It takes about 4 minutes to execute.*\n",
        "\n",
        "[Installation guide](https://docs.manim.community/en/stable/installation.html)\n"
      ],
      "metadata": {
        "id": "2y3NzK9EKMX5"
      }
    },
    {
      "cell_type": "code",
      "execution_count": null,
      "metadata": {
        "id": "0JEfE0XMKGpl"
      },
      "outputs": [],
      "source": [
        "from IPython.display import clear_output\n",
        "\n",
        "!sudo apt update\n",
        "\n",
        "!sudo apt install libcairo2-dev ffmpeg \\\n",
        "    texlive texlive-latex-extra texlive-fonts-extra \\\n",
        "    texlive-latex-recommended texlive-science \\\n",
        "    tipa libpango1.0-dev\n",
        "\n",
        "%pip install manim\n",
        "\n",
        "%pip install IPython --upgrade\n",
        "\n",
        "clear_output() # clears cell output\n",
        "\n",
        "%pip show manim # shows info about manim\n",
        "\n",
        "exit() # restarts runtime"
      ]
    },
    {
      "cell_type": "markdown",
      "source": [
        "# Imports"
      ],
      "metadata": {
        "id": "_Os8BXq_VrBt"
      }
    },
    {
      "cell_type": "code",
      "source": [
        "from manim import *\n",
        "config.disable_caching = True"
      ],
      "metadata": {
        "id": "YRPPOIftWHEV"
      },
      "execution_count": null,
      "outputs": []
    },
    {
      "cell_type": "markdown",
      "source": [
        "# Example\n",
        "\n",
        "```python\n",
        "%%manim -ql NewScene\n",
        "class NewScene(Scene):\n",
        "    def construct(self):\n",
        "      ...  \n",
        "```\n",
        "\n",
        "The first line of code, `%%manim -ql NewScene` is a magic command, it only works within Jupyter notebooks. The flag `-ql` specifies low render quality (480p, 15fps), followed by the name of the scene class.\n",
        "\n",
        "The other options for render quality are `-qm`, `-qh`, and `-qk` for medium (720p, 30fps), high (1080p, 60fps), and 4k (2160p, 60fps) quality, respectively.\n",
        "\n",
        "The animation below expands Manim's logo into its banner.\n",
        "\n",
        "[source](https://docs.manim.community/en/stable/reference/manim.mobject.logo.ManimBanner.html)"
      ],
      "metadata": {
        "id": "hACC1RhFcoH8"
      }
    },
    {
      "cell_type": "code",
      "source": [
        "%%manim -ql DarkThemeBanner\n",
        "\n",
        "class DarkThemeBanner(Scene):\n",
        "    def construct(self):\n",
        "        banner = ManimBanner()\n",
        "        self.play(banner.create())\n",
        "        self.play(banner.expand())\n",
        "        self.wait()"
      ],
      "metadata": {
        "id": "bN7o0aSeVqpX"
      },
      "execution_count": null,
      "outputs": []
    },
    {
      "cell_type": "markdown",
      "source": [
        "# New Project"
      ],
      "metadata": {
        "id": "DCGSyKX-ACpW"
      }
    },
    {
      "cell_type": "code",
      "source": [
        "%%manim -ql NewScene\n",
        "\n",
        "class NewScene(Scene):\n",
        "    def construct(self):\n",
        "      # code below\n"
      ],
      "metadata": {
        "id": "NVY6ry0-AKhG"
      },
      "execution_count": null,
      "outputs": []
    },
    {
      "cell_type": "code",
      "source": [],
      "metadata": {
        "id": "nfiS2xcUwn0m"
      },
      "execution_count": null,
      "outputs": []
    }
  ]
}

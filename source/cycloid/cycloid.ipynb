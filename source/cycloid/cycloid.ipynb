{
  "nbformat": 4,
  "nbformat_minor": 0,
  "metadata": {
    "colab": {
      "provenance": [],
      "authorship_tag": "ABX9TyPVaQx6Jk3zz2UPMN+o2c3x",
      "include_colab_link": true
    },
    "kernelspec": {
      "name": "python3",
      "display_name": "Python 3"
    },
    "language_info": {
      "name": "python"
    }
  },
  "cells": [
    {
      "cell_type": "markdown",
      "metadata": {
        "id": "view-in-github",
        "colab_type": "text"
      },
      "source": [
        "<a href=\"https://colab.research.google.com/github/curiouswalk/manim/blob/main/source/cycloid/cycloid.ipynb\" target=\"_parent\"><img src=\"https://colab.research.google.com/assets/colab-badge.svg\" alt=\"Open In Colab\"/></a>"
      ]
    },
    {
      "cell_type": "markdown",
      "source": [
        "# Curious Walk\n",
        "\n",
        "#### Find us on [link.curiouswalk.com/sites](https://link.curiouswalk.com/sites)\n",
        "#### Source: [link.curiouswalk.com/manim/source](https://link.curiouswalk.com/manim/source)"
      ],
      "metadata": {
        "id": "e6TdiMaLSLci"
      }
    },
    {
      "cell_type": "markdown",
      "source": [
        "# Manim Animation\n",
        "\n",
        "> The Manim Community Developers. (2024). Manim – Mathematical Animation Framework (Version v0.18.0) [Computer software]. https://www.manim.community/"
      ],
      "metadata": {
        "id": "g_1nzpjFLCNf"
      }
    },
    {
      "cell_type": "markdown",
      "source": [
        "# Setup\n",
        "Run the cell below to get started.\n",
        "\n",
        "*It takes about 4 minutes to execute.*\n",
        "\n",
        "[Installation guide](https://docs.manim.community/en/stable/installation.html)\n"
      ],
      "metadata": {
        "id": "2y3NzK9EKMX5"
      }
    },
    {
      "cell_type": "code",
      "execution_count": null,
      "metadata": {
        "id": "0JEfE0XMKGpl"
      },
      "outputs": [],
      "source": [
        "from IPython.display import clear_output\n",
        "\n",
        "!sudo apt update\n",
        "\n",
        "!sudo apt install libcairo2-dev ffmpeg \\\n",
        "    texlive texlive-latex-extra texlive-fonts-extra \\\n",
        "    texlive-latex-recommended texlive-science \\\n",
        "    tipa libpango1.0-dev\n",
        "\n",
        "%pip install manim\n",
        "\n",
        "%pip install IPython --upgrade\n",
        "\n",
        "clear_output() # clears cell output\n",
        "\n",
        "%pip show manim # shows info about manim\n",
        "\n",
        "exit() # restarts runtime"
      ]
    },
    {
      "cell_type": "markdown",
      "source": [
        "# Imports"
      ],
      "metadata": {
        "id": "_Os8BXq_VrBt"
      }
    },
    {
      "cell_type": "code",
      "source": [
        "from manim import *\n",
        "config.disable_caching = True"
      ],
      "metadata": {
        "id": "YRPPOIftWHEV",
        "colab": {
          "base_uri": "https://localhost:8080/",
          "height": 49
        },
        "outputId": "63ee1f37-bc88-4730-cd99-349bb2f613e2"
      },
      "execution_count": 1,
      "outputs": [
        {
          "output_type": "display_data",
          "data": {
            "text/plain": [
              "Manim Community \u001b[32mv0.\u001b[0m\u001b[32m18.0\u001b[0m\n",
              "\n"
            ],
            "text/html": [
              "<pre style=\"white-space:pre;overflow-x:auto;line-height:normal;font-family:Menlo,'DejaVu Sans Mono',consolas,'Courier New',monospace\">Manim Community <span style=\"color: #008000; text-decoration-color: #008000\">v0.18.0</span>\n",
              "\n",
              "</pre>\n"
            ]
          },
          "metadata": {}
        }
      ]
    },
    {
      "cell_type": "markdown",
      "source": [
        "# Example\n",
        "\n",
        "```python\n",
        "%%manim -ql NewScene\n",
        "class NewScene(Scene):\n",
        "    def construct(self):\n",
        "      ...  \n",
        "```\n",
        "\n",
        "The first line of code, `%%manim -ql NewScene` is a magic command, it only works within Jupyter notebooks. The flag `-ql` specifies low render quality (480p, 15fps), followed by the name of the scene class.\n",
        "\n",
        "The other options for render quality are `-qm`, `-qh`, and `-qk` for medium (720p, 30fps), high (1080p, 60fps), and 4k (2160p, 60fps) quality, respectively.\n",
        "\n",
        "The animation below expands Manim's logo into its banner.\n",
        "\n",
        "[source](https://docs.manim.community/en/stable/reference/manim.mobject.logo.ManimBanner.html)\n"
      ],
      "metadata": {
        "id": "seHVLHskT8CI"
      }
    },
    {
      "cell_type": "code",
      "source": [
        "%%manim -ql DarkThemeBanner\n",
        "\n",
        "class DarkThemeBanner(Scene):\n",
        "    def construct(self):\n",
        "        banner = ManimBanner()\n",
        "        self.play(banner.create())\n",
        "        self.play(banner.expand())\n",
        "        self.wait()"
      ],
      "metadata": {
        "id": "9tsizY7aUKk2"
      },
      "execution_count": null,
      "outputs": []
    },
    {
      "cell_type": "markdown",
      "source": [
        "# Cycloid"
      ],
      "metadata": {
        "id": "DCGSyKX-ACpW"
      }
    },
    {
      "cell_type": "code",
      "source": [
        "%%manim -qh Cycloid\n",
        "\n",
        "class Cycloid(Scene):\n",
        "\n",
        "    def construct(self):\n",
        "\n",
        "        frame_width = config.frame_width\n",
        "\n",
        "        length = frame_width * 0.8\n",
        "\n",
        "        numline = NumberLine(\n",
        "            x_range=[-TAU, TAU, PI], length=length, color=\"#a3aea7\"\n",
        "        ).to_edge(DOWN, buff=1.5)\n",
        "\n",
        "        circle = Circle(radius=length / (TAU * 2), color=\"#00ffff\").next_to(\n",
        "            numline.get_start(), UP, buff=0.25\n",
        "        )\n",
        "\n",
        "        cc = Dot(color=circle.color).move_to(circle)\n",
        "\n",
        "        p = Dot(radius=0.1, color=circle.color).move_to(circle)\n",
        "\n",
        "        line = Line(cc, p, color=\"#a3aea7\", stroke_opacity=[0.25, 1, 0.25])\n",
        "\n",
        "        lp = VGroup(line, p)\n",
        "\n",
        "        trail = TracedPath(\n",
        "            cc.get_center, dissipating_time=0.2, stroke_color=cc.color, stroke_width=4\n",
        "        )\n",
        "        cix = circle.get_x()\n",
        "\n",
        "        cr = circle.radius\n",
        "\n",
        "        pr = ValueTracker(0.0)\n",
        "\n",
        "        cycloids = VGroup()\n",
        "\n",
        "        def update_function(m):\n",
        "\n",
        "            angle = PI / 2 - (circle.get_x() - cix) / cr\n",
        "\n",
        "            pos = (\n",
        "                circle.get_center()\n",
        "                + np.array([np.cos(angle), np.sin(angle), 0.0]) * pr.get_value()\n",
        "            )\n",
        "            m[0].put_start_and_end_on(circle.get_center(), pos)\n",
        "\n",
        "            m[1].move_to(pos)\n",
        "\n",
        "        def play_animation(txt, radius, color):\n",
        "            text = Tex(txt).scale(1.25).to_edge(UP, buff=0.75)\n",
        "\n",
        "            self.play(\n",
        "                pr.animate.set_value(radius),\n",
        "                FadeIn(text),\n",
        "                p.animate.set_color(color),\n",
        "                run_time=1.5,\n",
        "            )\n",
        "\n",
        "            self.wait(1)\n",
        "\n",
        "            path = TracedPath(p.get_center, stroke_color=p.color, stroke_width=5)\n",
        "\n",
        "            self.add(path)\n",
        "\n",
        "            trail.set_stroke(opacity=[1, 0])\n",
        "\n",
        "            self.play(\n",
        "                circle.animate(run_time=2.5, rate_func=linear).shift(RIGHT * length)\n",
        "            )\n",
        "\n",
        "            self.wait(2)\n",
        "\n",
        "            path.clear_updaters()\n",
        "\n",
        "            cycloids.add(path.copy())\n",
        "\n",
        "            trail.set_stroke(opacity=[0, 1])\n",
        "            self.play(\n",
        "                circle.animate(rate_func=linear, run_time=2.5).shift(LEFT * length)\n",
        "            )\n",
        "            self.wait(1)\n",
        "            self.play(FadeOut(path), FadeOut(text), run_time=1.5)\n",
        "\n",
        "            self.wait(0.5)\n",
        "\n",
        "        self.wait(0.25)\n",
        "\n",
        "        self.play(\n",
        "            Create(numline, lag_ratio=0),\n",
        "            Create(circle),\n",
        "            FadeIn(lp, cc, scale=0),\n",
        "            run_time=1.5,\n",
        "        )\n",
        "\n",
        "        self.wait(1)\n",
        "\n",
        "        self.add(trail)\n",
        "        circle.add(cc)\n",
        "\n",
        "        lp.add_updater(update_function)\n",
        "\n",
        "        play_animation(txt=\"Cycloid\", radius=cr, color=\"#ffff00\")\n",
        "\n",
        "        play_animation(txt=\"Prolate Cycloid\", radius=cr * 1.5, color=\"#ff0000\")\n",
        "\n",
        "        play_animation(txt=\"Curtate Cycloid\", radius=cr * 0.5, color=\"#0000ff\")\n",
        "\n",
        "        self.wait(0.5)\n",
        "\n",
        "        self.play(pr.animate.set_value(0.0), p.animate.set_color(circle.color))\n",
        "\n",
        "        VGroup(trail, lp).clear_updaters()\n",
        "        circle.remove(cc)\n",
        "\n",
        "        self.wait(0.5)\n",
        "\n",
        "        self.play(\n",
        "            Uncreate(circle),\n",
        "            FadeOut(cc, lp, scale=0),\n",
        "            Uncreate(numline, lag_ratio=0),\n",
        "            run_time=1.5,\n",
        "        )\n",
        "\n",
        "        cycloids.scale_to_fit_width(frame_width).set_stroke(opacity=[0, 1, 0]).center()\n",
        "\n",
        "        self.wait(1)\n",
        "\n",
        "        self.play(Create(cycloids, lag_ratio=0, rate_func=linear, run_time=2.5))\n",
        "\n",
        "        self.wait(2)\n",
        "\n",
        "        self.play(Uncreate(cycloids, lag_ratio=0, rate_func=linear, run_time=2.5))\n",
        "\n",
        "        self.wait(0.25)\n"
      ],
      "metadata": {
        "id": "NVY6ry0-AKhG"
      },
      "execution_count": null,
      "outputs": []
    },
    {
      "cell_type": "code",
      "source": [],
      "metadata": {
        "id": "H35C1JUqX8R2"
      },
      "execution_count": null,
      "outputs": []
    }
  ]
}
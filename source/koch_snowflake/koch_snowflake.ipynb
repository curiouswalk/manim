{
  "nbformat": 4,
  "nbformat_minor": 0,
  "metadata": {
    "colab": {
      "provenance": [],
      "authorship_tag": "ABX9TyPQQrz0edfwYED0HPEi9IrS",
      "include_colab_link": true
    },
    "kernelspec": {
      "name": "python3",
      "display_name": "Python 3"
    },
    "language_info": {
      "name": "python"
    }
  },
  "cells": [
    {
      "cell_type": "markdown",
      "metadata": {
        "id": "view-in-github",
        "colab_type": "text"
      },
      "source": [
        "<a href=\"https://colab.research.google.com/github/curiouswalk/manim/blob/main/source/koch_snowflake/koch_snowflake.ipynb\" target=\"_parent\"><img src=\"https://colab.research.google.com/assets/colab-badge.svg\" alt=\"Open In Colab\"/></a>"
      ]
    },
    {
      "cell_type": "markdown",
      "source": [
        "# Curious Walk\n",
        "\n",
        "### Find us on [link.curiouswalk.com/sites](https://link.curiouswalk.com/sites)\n",
        "#### Source: [link.curiouswalk.com/manim](https://link.curiouswalk.com/manim)"
      ],
      "metadata": {
        "id": "e6TdiMaLSLci"
      }
    },
    {
      "cell_type": "markdown",
      "source": [
        "# Manim Animation\n",
        "\n",
        "Manim is an animation engine for creating precise programmatic animations.\n",
        "\n",
        "> The Manim Community Developers. (2024). Manim – Mathematical Animation Framework (Version v0.18.0) [Computer software]. https://www.manim.community/"
      ],
      "metadata": {
        "id": "g_1nzpjFLCNf"
      }
    },
    {
      "cell_type": "markdown",
      "source": [
        "# Setup\n",
        "Run the cell below to get started.\n",
        "\n",
        "*It takes about 4 minutes to execute.*\n",
        "\n",
        "[**Installation guide**](https://docs.manim.community/en/stable/installation.html)\n"
      ],
      "metadata": {
        "id": "2y3NzK9EKMX5"
      }
    },
    {
      "cell_type": "code",
      "execution_count": null,
      "metadata": {
        "id": "0JEfE0XMKGpl"
      },
      "outputs": [],
      "source": [
        "from IPython.display import clear_output\n",
        "\n",
        "!sudo apt update\n",
        "\n",
        "!sudo apt install libcairo2-dev ffmpeg \\\n",
        "    texlive texlive-latex-extra texlive-fonts-extra \\\n",
        "    texlive-latex-recommended texlive-science \\\n",
        "    tipa libpango1.0-dev\n",
        "\n",
        "%pip install manim\n",
        "\n",
        "%pip install IPython --upgrade\n",
        "\n",
        "clear_output() # clears cell output\n",
        "\n",
        "%pip show manim # shows info about manim\n",
        "\n",
        "exit() # restarts runtime"
      ]
    },
    {
      "cell_type": "markdown",
      "source": [
        "# Imports"
      ],
      "metadata": {
        "id": "_Os8BXq_VrBt"
      }
    },
    {
      "cell_type": "code",
      "source": [
        "from manim import *\n",
        "import numpy as np\n",
        "\n",
        "config.disable_caching = True"
      ],
      "metadata": {
        "id": "YRPPOIftWHEV"
      },
      "execution_count": null,
      "outputs": []
    },
    {
      "cell_type": "markdown",
      "source": [
        "# Example\n",
        "\n",
        "```python\n",
        "%%manim -ql NewScene\n",
        "class NewScene(Scene):\n",
        "    def construct(self):\n",
        "      ...  \n",
        "```\n",
        "\n",
        "The first line of code, `%%manim -ql NewScene` is a magic command, it only works within Jupyter notebooks. The flag `-ql` specifies low render quality (480p, 15fps), followed by the name of the scene class.\n",
        "\n",
        "The other options for render quality are `-qm`, `-qh`, and `-qk` for medium (720p, 30fps), high (1080p, 60fps), and 4k (2160p, 60fps) quality, respectively.\n",
        "\n",
        "The animation below expands Manim's logo into its banner. [[source]](https://docs.manim.community/en/stable/reference/manim.mobject.logo.ManimBanner.html)\n"
      ],
      "metadata": {
        "id": "seHVLHskT8CI"
      }
    },
    {
      "cell_type": "code",
      "source": [
        "%%manim -ql BannerAnimation\n",
        "\n",
        "class BannerAnimation(Scene):\n",
        "    def construct(self):\n",
        "        banner = ManimBanner()\n",
        "        self.play(banner.create())\n",
        "        self.play(banner.expand())\n",
        "        self.wait()"
      ],
      "metadata": {
        "id": "9tsizY7aUKk2"
      },
      "execution_count": null,
      "outputs": []
    },
    {
      "cell_type": "markdown",
      "source": [
        "# Koch Snowflake Class"
      ],
      "metadata": {
        "id": "DCGSyKX-ACpW"
      }
    },
    {
      "cell_type": "code",
      "source": [
        "class KochSnowflake(Polygram):\n",
        "    \"\"\"A Koch Snowflake. It inherits from Polygram class.\n",
        "\n",
        "    Source:\n",
        "      https://matplotlib.org/stable/gallery/lines_bars_and_markers/fill.html\n",
        "\n",
        "    Args:\n",
        "      level (int): The recursion depth (level of complexity). Defaults to 0.\n",
        "      scale (float): The extent of the snowflake (edge length of the base triangle). Defaults to 4.0.\n",
        "      **kwargs: Arbitrary keyword arguments.\n",
        "    \"\"\"\n",
        "\n",
        "    def __init__(self, level=0, scale=4, **kwargs) -> None:\n",
        "\n",
        "        def _koch_snowflake_complex(level):\n",
        "            if level == 0:\n",
        "                # initial triangle\n",
        "                angles = np.array([0, 120, 240]) + 90\n",
        "                return scale / np.sqrt(3) * np.exp(np.deg2rad(angles) * 1j)\n",
        "            else:\n",
        "                ZR = 0.5 - 0.5j * np.sqrt(3) / 3\n",
        "\n",
        "                p1 = _koch_snowflake_complex(level - 1)  # start points\n",
        "                p2 = np.roll(p1, shift=-1)  # end points\n",
        "                dp = p2 - p1  # connection vectors\n",
        "\n",
        "                new_points = np.empty(len(p1) * 4, dtype=np.complex128)\n",
        "                new_points[::4] = p1\n",
        "                new_points[1::4] = p1 + dp / 3\n",
        "                new_points[2::4] = p1 + dp * ZR\n",
        "                new_points[3::4] = p1 + dp / 3 * 2\n",
        "                return new_points\n",
        "\n",
        "        points = _koch_snowflake_complex(level)\n",
        "        x, y = points.real, points.imag\n",
        "        z = np.zeros(points.size)\n",
        "        vertex_groups = np.stack((x, y, z), axis=-1)\n",
        "\n",
        "        super().__init__(vertex_groups, **kwargs)\n"
      ],
      "metadata": {
        "id": "NVY6ry0-AKhG"
      },
      "execution_count": null,
      "outputs": []
    },
    {
      "cell_type": "markdown",
      "source": [
        "# Koch Snowflake Image"
      ],
      "metadata": {
        "id": "etNK9hEs0lEE"
      }
    },
    {
      "cell_type": "code",
      "source": [
        "%%manim -qh KochSnowflakeImage\n",
        "\n",
        "# Changes the default font typeface in LaTeX.\n",
        "config.tex_template.add_to_preamble(r\"\\usepackage{fourier}\")\n",
        "\n",
        "class KochSnowflakeImage(Scene):\n",
        "\n",
        "    def construct(self):\n",
        "\n",
        "        n = 3 # level of complexity\n",
        "\n",
        "        sw = 4 # stroke width (decrease for greater n)\n",
        "\n",
        "        color = (\"#0A68EF\", \"#4AF1F2\")\n",
        "\n",
        "        txt = Tex(\"Koch Snowflake\")\n",
        "\n",
        "        level = Tex(\"Level: %d\" % n)\n",
        "\n",
        "        tex_group = VGroup(txt, level).arrange(DOWN, aligned_edge=LEFT).to_corner(UL)\n",
        "\n",
        "        koch_snowflake = (\n",
        "            KochSnowflake(n, scale=5, stroke_width=sw, fill_opacity=0.25)\n",
        "            .set_color(color)\n",
        "            .center()\n",
        "        )\n",
        "\n",
        "        self.add(tex_group, koch_snowflake)\n"
      ],
      "metadata": {
        "id": "H35C1JUqX8R2"
      },
      "execution_count": null,
      "outputs": []
    },
    {
      "cell_type": "markdown",
      "source": [
        "# Koch Snowflake Scene 1"
      ],
      "metadata": {
        "id": "b9C4RN940utL"
      }
    },
    {
      "cell_type": "code",
      "source": [
        "%%manim -ql KochSnowflakeScene1\n",
        "\n",
        "# Changes the default font typeface in LaTeX.\n",
        "config.tex_template.add_to_preamble(r\"\\usepackage{fourier}\")\n",
        "\n",
        "class KochSnowflakeScene1(Scene):\n",
        "\n",
        "    def construct(self):\n",
        "\n",
        "        txt = Tex(\"Koch Snowflake\")\n",
        "        level = Variable(0, Tex(\"Level\"), var_type=Integer)\n",
        "\n",
        "        tex_group = VGroup(txt, level).arrange(DOWN, aligned_edge=LEFT).to_corner(UL)\n",
        "\n",
        "        color = (\"#0A68EF\", \"#4AF1F2\")\n",
        "\n",
        "        ks = KochSnowflake(0, scale=5, stroke_width=6, fill_opacity=0.25).set_color(\n",
        "            color\n",
        "        )\n",
        "\n",
        "        sw = np.linspace(6, 1, 6) # thinning stroke width\n",
        "\n",
        "        self.wait(0.25)\n",
        "\n",
        "        self.play(FadeIn(tex_group, ks), run_time=1.5)\n",
        "\n",
        "        self.wait(1.5)\n",
        "\n",
        "        for i in range(1, 6):\n",
        "\n",
        "            ks_next_level = KochSnowflake(\n",
        "                i, scale=5, stroke_width=sw[i], fill_opacity=0.25\n",
        "            ).set_color(color)\n",
        "\n",
        "            self.play(\n",
        "                level.tracker.animate.set_value(i),\n",
        "                ks.animate.become(ks_next_level),\n",
        "                run_time=1.5,\n",
        "            )\n",
        "            self.wait(1.5)\n",
        "\n",
        "        self.wait(0.5)\n",
        "\n",
        "        self.play(FadeOut(tex_group, ks), run_time=1.5)\n",
        "\n",
        "        self.wait(0.25)\n"
      ],
      "metadata": {
        "id": "XjJ6eONy0uAr"
      },
      "execution_count": null,
      "outputs": []
    },
    {
      "cell_type": "markdown",
      "source": [
        "# Koch Snowflake Scene 2"
      ],
      "metadata": {
        "id": "FHmXwXSE0zNu"
      }
    },
    {
      "cell_type": "code",
      "source": [
        "%%manim -ql KochSnowflakeScene2\n",
        "\n",
        "# Changes the default font typeface in LaTeX.\n",
        "config.tex_template.add_to_preamble(r\"\\usepackage{fourier}\")\n",
        "\n",
        "class KochSnowflakeScene2(Scene):\n",
        "\n",
        "    def construct(self):\n",
        "\n",
        "        txt = Tex(\"Koch Snowflake\").to_edge(UP)\n",
        "\n",
        "        color = (\"#0A68EF\", \"#4AF1F2\")\n",
        "\n",
        "        ks_grp = VGroup()\n",
        "\n",
        "        sw = np.linspace(6, 2, 4) # thinning stroke width\n",
        "\n",
        "        for i in range(4):\n",
        "\n",
        "            ks_grp.add(\n",
        "                VGroup(\n",
        "                    KochSnowflake(\n",
        "                        i, scale=3, stroke_width=sw[i], fill_opacity=0.25\n",
        "                    ).set_color(color),\n",
        "                    Tex(\"Level: %d\" % i),\n",
        "                ).arrange(UP, buff=0.5)\n",
        "            )\n",
        "\n",
        "        ks_grp.arrange(RIGHT, aligned_edge=UP)\n",
        "\n",
        "        self.wait(0.25)\n",
        "\n",
        "        self.play(FadeIn(txt, ks_grp[0]))\n",
        "\n",
        "        self.wait()\n",
        "\n",
        "        for i in range(1, 4):\n",
        "\n",
        "            self.play(TransformFromCopy(ks_grp[i - 1], ks_grp[i], run_time=1.5))\n",
        "\n",
        "            self.wait()\n",
        "\n",
        "        self.wait(0.5)\n",
        "\n",
        "        self.play(FadeOut(txt, ks_grp))\n",
        "\n",
        "        self.wait(0.25)\n"
      ],
      "metadata": {
        "id": "549v748901yw"
      },
      "execution_count": null,
      "outputs": []
    },
    {
      "cell_type": "code",
      "source": [],
      "metadata": {
        "id": "9SBxt3BJ9aN3"
      },
      "execution_count": null,
      "outputs": []
    }
  ]
}
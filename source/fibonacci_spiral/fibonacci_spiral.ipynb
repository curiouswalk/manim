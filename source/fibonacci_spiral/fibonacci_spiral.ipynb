{
  "cells": [
    {
      "cell_type": "markdown",
      "metadata": {
        "id": "view-in-github",
        "colab_type": "text"
      },
      "source": [
        "<a href=\"https://colab.research.google.com/github/curiouswalk/manim/blob/main/source/fibonacci_spiral/fibonacci_spiral.ipynb\" target=\"_parent\"><img src=\"https://colab.research.google.com/assets/colab-badge.svg\" alt=\"Open In Colab\"/></a>"
      ]
    },
    {
      "cell_type": "markdown",
      "metadata": {
        "id": "e6TdiMaLSLci"
      },
      "source": [
        "# CuriousWalk\n",
        "#### [`www.curiouswalk.com`](https://www.curiouswalk.com)\n",
        "#### [`link.curiouswalk.com/manim`](https://link.curiouswalk.com/manim)"
      ]
    },
    {
      "cell_type": "markdown",
      "metadata": {
        "id": "g_1nzpjFLCNf"
      },
      "source": [
        "# Manim\n",
        "\n",
        "Manim is an engine for precise programmatic animations, designed for creating explanatory math videos.\n",
        "\n",
        "> The Manim Community Developers. (2024). Manim – Mathematical Animation Framework (Version v0.18.0) [Computer software].  [www.manim.community](https://www.manim.community/)"
      ]
    },
    {
      "cell_type": "markdown",
      "metadata": {
        "id": "2y3NzK9EKMX5"
      },
      "source": [
        "# Setup\n",
        "\n",
        "[Installation Guide](https://docs.manim.community/en/stable/installation.html)\n",
        "\n",
        "Run this cell to get started."
      ]
    },
    {
      "cell_type": "code",
      "execution_count": null,
      "metadata": {
        "id": "0JEfE0XMKGpl"
      },
      "outputs": [],
      "source": [
        "from IPython.display import clear_output\n",
        "\n",
        "!sudo apt update\n",
        "\n",
        "!sudo apt install libcairo2-dev libpango1.0-dev ffmpeg\n",
        "\n",
        "# LaTeX installation\n",
        "!sudo apt install texlive texlive-latex-extra\n",
        "\n",
        "# LaTeX additional packages\n",
        "!sudo apt install texlive-science texlive-fonts-extra\n",
        "\n",
        "!pip install manim\n",
        "\n",
        "clear_output() # clears cell output\n",
        "\n",
        "!manim --version\n",
        "\n",
        "exit() # restarts runtime"
      ]
    },
    {
      "cell_type": "markdown",
      "metadata": {
        "id": "_Os8BXq_VrBt"
      },
      "source": [
        "# Imports"
      ]
    },
    {
      "cell_type": "code",
      "execution_count": null,
      "metadata": {
        "id": "YRPPOIftWHEV"
      },
      "outputs": [],
      "source": [
        "from manim import *\n",
        "config.disable_caching = True\n",
        "config.verbosity = \"WARNING\""
      ]
    },
    {
      "cell_type": "markdown",
      "metadata": {
        "id": "hACC1RhFcoH8"
      },
      "source": [
        "# Example\n",
        "\n",
        "```python\n",
        "%%manim -ql NewScene\n",
        "class NewScene(Scene):\n",
        "    def construct(self):\n",
        "      ...  \n",
        "```\n",
        "\n",
        "The first line of code, `%%manim -ql NewScene` is a magic command, it only works within Jupyter notebooks. The flag `-ql` specifies low render quality (480p, 15fps), followed by the name of the scene class.\n",
        "\n",
        "The other options for render quality are `-qm`, `-qh`, and `-qk` for medium (720p, 30fps), high (1080p, 60fps), and 4k (2160p, 60fps) quality, respectively.\n",
        "\n",
        "This animation expands Manim's logo into its banner.  [[source]](https://docs.manim.community/en/stable/reference/manim.mobject.logo.ManimBanner.html)"
      ]
    },
    {
      "cell_type": "code",
      "execution_count": null,
      "metadata": {
        "id": "bN7o0aSeVqpX"
      },
      "outputs": [],
      "source": [
        "%%manim -ql DarkThemeBanner\n",
        "\n",
        "class DarkThemeBanner(Scene):\n",
        "    def construct(self):\n",
        "        banner = ManimBanner()\n",
        "        self.play(banner.create())\n",
        "        self.play(banner.expand())\n",
        "        self.wait()"
      ]
    },
    {
      "cell_type": "markdown",
      "source": [
        "# Fibonacci Spiral"
      ],
      "metadata": {
        "id": "u-IxYbzqusko"
      }
    },
    {
      "cell_type": "markdown",
      "source": [
        "## Functions"
      ],
      "metadata": {
        "id": "Otlpi6dbztJl"
      }
    },
    {
      "cell_type": "code",
      "source": [
        "def fib_seq(n, a=1, b=1):\n",
        "    seq = []\n",
        "    for _ in range(n):\n",
        "        seq.append(a)\n",
        "        a, b = b, a + b\n",
        "    return seq\n",
        "\n",
        "def seq_print(seq, string=\"Fibonacci Sequence\"):\n",
        "    string += \": \" + \", \".join(map(str, seq)) + \", ...\"\n",
        "    return print(string)\n"
      ],
      "metadata": {
        "id": "_1kc2fIYz5bH"
      },
      "execution_count": null,
      "outputs": []
    },
    {
      "cell_type": "code",
      "source": [
        "fib_seq_20 = fib_seq(20, 0, 1)\n",
        "seq_print(fib_seq_20)"
      ],
      "metadata": {
        "id": "WyY6HnyKz5YX"
      },
      "execution_count": null,
      "outputs": []
    },
    {
      "cell_type": "code",
      "source": [
        "def fib_spiral_mobj(seq):\n",
        "    \"\"\"Returns mobjects for Fibonacci Spiral.\n",
        "\n",
        "    Args:\n",
        "        seq (list[int]): List of Fibonacci numbers.\n",
        "\n",
        "    Returns:\n",
        "        VGroup: A group of mobjects:\n",
        "                Square, MathTex, ArcBetweenPoints and Dot.\n",
        "    \"\"\"\n",
        "\n",
        "    mobjects = VGroup()\n",
        "    squares = VGroup()\n",
        "    direction = (UP, RIGHT, DOWN, LEFT)\n",
        "    corner = (DL, UL)\n",
        "    dot_index = (0, 0, -1, -1)\n",
        "\n",
        "    for i, n in enumerate(seq):\n",
        "        square = Square(n).next_to(squares, direction[i % 4], buff=0)\n",
        "        dots = VGroup(\n",
        "            Dot(square.get_corner(corner[i % 2]), color=\"#cfff04\"),\n",
        "            Dot(square.get_corner(-corner[i % 2]), color=\"#cfff04\"),\n",
        "        )\n",
        "        spiral = ArcBetweenPoints(\n",
        "            dots[dot_index[i % 4]].get_center(),\n",
        "            dots[dot_index[i % 4] + 1].get_center(),\n",
        "            angle=-PI / 2,\n",
        "            color=\"#04d9ff\",\n",
        "            stroke_width=5,\n",
        "        )\n",
        "        num = (\n",
        "            MathTex(rf\"{n}^2\")\n",
        "            .scale_to_fit_height(square.height * 0.3)\n",
        "            .move_to(square)\n",
        "        )\n",
        "        squares.add(square)\n",
        "        mobjects.add(VGroup(square, num, spiral, dots))\n",
        "        mobjects.center()\n",
        "\n",
        "    return mobjects\n"
      ],
      "metadata": {
        "id": "BSz0FMrc2Ltq"
      },
      "execution_count": null,
      "outputs": []
    },
    {
      "cell_type": "code",
      "source": [
        "def spiral_animation(self, mobjects):\n",
        "    \"\"\"Animation for Fibonacci Spiral.\n",
        "\n",
        "    Args:\n",
        "        mobjects (VGroup): A group of mobjects to animate.\n",
        "    \"\"\"\n",
        "\n",
        "    width = config.frame_width * 0.8\n",
        "\n",
        "    height = config.frame_height * 0.8\n",
        "\n",
        "    def scale_width(idx, width=width):\n",
        "        mobjects.scale_to_fit_width(width * (mobjects.width / mobjects[:idx].width))\n",
        "\n",
        "    def scale_height(idx, height=height):\n",
        "        mobjects.scale_to_fit_height(height * (mobjects.height / mobjects[:idx].height))\n",
        "\n",
        "    def recenter(idx):\n",
        "        mobjects.move_to(mobjects.get_center() - mobjects[:idx].get_center())\n",
        "\n",
        "    scale_height(1, config.frame_height * 0.3)\n",
        "\n",
        "    for i, mobj in enumerate(mobjects, 1):\n",
        "\n",
        "        if mobjects[:i].width > width:\n",
        "\n",
        "            scale_width(i, width)\n",
        "\n",
        "        elif mobjects[:i].height > height:\n",
        "\n",
        "            scale_height(i, height)\n",
        "\n",
        "        square, num, spiral, dots = mobj\n",
        "\n",
        "        recenter(i)\n",
        "\n",
        "        self.bring_to_back(square)\n",
        "\n",
        "        self.play(Create(square), Write(num))\n",
        "\n",
        "        self.play(Create(spiral, rate_func=linear), FadeIn(dots))\n",
        "        self.wait()\n",
        "        self.play(FadeToColor(square, \"#7a687f\"), FadeToColor(num, \"#7a687f\"))\n",
        "        self.wait()\n"
      ],
      "metadata": {
        "id": "8fYI1o0v2eTD"
      },
      "execution_count": null,
      "outputs": []
    },
    {
      "cell_type": "markdown",
      "source": [
        "## Manim Scene"
      ],
      "metadata": {
        "id": "8J7c1ey7zyUC"
      }
    },
    {
      "cell_type": "code",
      "source": [
        "%%manim -qh FibonacciSpiralImg\n",
        "\n",
        "# changes LaTeX font typeface\n",
        "config.tex_template.add_to_preamble(r\"\\usepackage{fourier}\")\n",
        "\n",
        "class FibonacciSpiralImg(Scene):\n",
        "    def construct(self):\n",
        "\n",
        "        # first 6 terms of Fibonacci sequence\n",
        "        fib_seq_6 = fib_seq(6)\n",
        "\n",
        "        fib_spiral = fib_spiral_mobj(fib_seq_6)\n",
        "\n",
        "        fib_spiral.scale_to_fit_width(config.frame_width * 0.75)\n",
        "\n",
        "        tex_width = fib_spiral[-1][0].width * 0.75\n",
        "\n",
        "        fib_spiral_tex = Tex(\"Fibonacci Spiral\")\n",
        "\n",
        "        fib_spiral_tex.scale_to_fit_width(tex_width).next_to(\n",
        "            fib_spiral[-1][0], DOWN, buff=-1\n",
        "        )\n",
        "\n",
        "        self.add(fib_spiral_tex, fib_spiral)\n",
        "\n",
        "        for i in fib_spiral:\n",
        "            self.bring_to_front(i[-2], i[-1])\n",
        "\n",
        "        seq_print(fib_seq_6)\n"
      ],
      "metadata": {
        "id": "AFWQRDnruvXj"
      },
      "execution_count": null,
      "outputs": []
    },
    {
      "cell_type": "code",
      "source": [
        "%%manim -qh FibonacciSpiralSceneOne\n",
        "\n",
        "# changes LaTeX font typeface\n",
        "config.tex_template.add_to_preamble(r\"\\usepackage{fourier}\")\n",
        "\n",
        "class FibonacciSpiralSceneOne(Scene):\n",
        "    def construct(self):\n",
        "\n",
        "        # first 6 terms of Fibonacci sequence\n",
        "        fib_seq_6 = fib_seq(6)\n",
        "\n",
        "        fib_spiral = fib_spiral_mobj(fib_seq_6)\n",
        "\n",
        "        fib_spiral.scale_to_fit_width(config.frame_width * 0.75)\n",
        "\n",
        "        tex_width = fib_spiral[-1][0].width * 0.75\n",
        "\n",
        "        fib_spiral_tex = Tex(\"Fibonacci Spiral\")\n",
        "\n",
        "        fib_spiral_tex.scale_to_fit_width(tex_width).next_to(\n",
        "            fib_spiral[-1][0], DOWN, buff=-1\n",
        "        )\n",
        "\n",
        "        vgrp = [VGroup() for _ in range(4)]\n",
        "\n",
        "        square, num, spiral, dots = vgrp\n",
        "\n",
        "        for mobj in fib_spiral:\n",
        "            for a, b in zip(vgrp, mobj):\n",
        "                a.add(b)\n",
        "\n",
        "        for s, n, d in zip(square, num, dots):\n",
        "            self.play(Create(s), Write(n))\n",
        "            self.play(*[FadeIn(i, scale=3) for i in d])\n",
        "\n",
        "        self.wait(2)\n",
        "\n",
        "        self.bring_to_front(spiral, dots)\n",
        "        self.play(\n",
        "            Create(spiral, rate_func=linear, run_time=4),\n",
        "            Write(fib_spiral_tex, run_time=2),\n",
        "        )\n",
        "\n",
        "        self.wait()\n"
      ],
      "metadata": {
        "id": "reqgUCzn26j2"
      },
      "execution_count": null,
      "outputs": []
    },
    {
      "cell_type": "code",
      "source": [
        "def text_anim(self):\n",
        "\n",
        "    tex_width = config.frame_width * 0.5\n",
        "\n",
        "    fib_spiral_tex = VGroup(\n",
        "        Tex(\"Fibonacci\").scale_to_fit_width(tex_width),\n",
        "        Tex(\"Spiral\").scale_to_fit_width(tex_width),\n",
        "    ).arrange(DOWN)\n",
        "\n",
        "    tex_group = VGroup(*fib_spiral_tex[0][0], *fib_spiral_tex[1][0])\n",
        "\n",
        "    self.play(SpiralIn(tex_group, scale_factor=1))\n",
        "\n",
        "    self.wait(2)\n",
        "\n",
        "    self.play(\n",
        "        SpiralIn(\n",
        "            tex_group,\n",
        "            scale_factor=1,\n",
        "            rate_func=lambda t: smooth(1 - t),\n",
        "            remover=True,\n",
        "        )\n",
        "    )\n",
        "\n"
      ],
      "metadata": {
        "id": "xKYoDHVH7UtW"
      },
      "execution_count": null,
      "outputs": []
    },
    {
      "cell_type": "code",
      "source": [
        "%%manim -qh FibonacciSpiralSceneTwo\n",
        "\n",
        "config.tex_template.add_to_preamble(r\"\\usepackage{fourier}\")\n",
        "\n",
        "class FibonacciSpiralSceneTwo(Scene):\n",
        "    def construct(self):\n",
        "\n",
        "        text_anim(self)\n",
        "        self.wait()\n",
        "\n",
        "        # first 10 terms of Fibonacci sequence\n",
        "        fib_seq_10 = fib_seq(10)\n",
        "\n",
        "        seq_print(fib_seq_10)\n",
        "\n",
        "        fib_spiral = fib_spiral_mobj(fib_seq_10)\n",
        "\n",
        "        spiral_animation(self, fib_spiral)\n",
        "        self.wait()\n"
      ],
      "metadata": {
        "id": "l5Jlc0Kqgilz"
      },
      "execution_count": null,
      "outputs": []
    },
    {
      "cell_type": "markdown",
      "source": [
        "# Exit Session"
      ],
      "metadata": {
        "id": "BeDs5ZvRn7QV"
      }
    },
    {
      "cell_type": "code",
      "source": [
        "from google.colab import runtime\n",
        "runtime.unassign()"
      ],
      "metadata": {
        "id": "um8LQVI6n297"
      },
      "execution_count": null,
      "outputs": []
    }
  ],
  "metadata": {
    "colab": {
      "provenance": [],
      "authorship_tag": "ABX9TyO7RAY9eCnOkhFQiT/dckTC",
      "include_colab_link": true
    },
    "kernelspec": {
      "display_name": "Python 3",
      "name": "python3"
    },
    "language_info": {
      "name": "python"
    }
  },
  "nbformat": 4,
  "nbformat_minor": 0
}
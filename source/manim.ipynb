{
  "cells": [
    {
      "cell_type": "markdown",
      "metadata": {
        "id": "view-in-github",
        "colab_type": "text"
      },
      "source": [
        "<a href=\"https://colab.research.google.com/github/curiouswalk/manim/blob/main/source/manim.ipynb\" target=\"_parent\"><img src=\"https://colab.research.google.com/assets/colab-badge.svg\" alt=\"Open In Colab\"/></a>"
      ]
    },
    {
      "cell_type": "markdown",
      "metadata": {
        "id": "e6TdiMaLSLci"
      },
      "source": [
        "# CuriousWalk\n",
        "### [`www.curiouswalk.com`](https://www.curiouswalk.com)\n",
        "### [`link.curiouswalk.com/manim`](https://link.curiouswalk.com/manim)"
      ]
    },
    {
      "cell_type": "markdown",
      "metadata": {
        "id": "g_1nzpjFLCNf"
      },
      "source": [
        "# Manim\n",
        "\n",
        "Manim is an engine for precise programmatic animations, designed for creating explanatory math videos.\n",
        "\n",
        "> The Manim Community Developers. (2024). Manim – Mathematical Animation Framework (Version v0.18.0) [Computer software].  [www.manim.community](https://www.manim.community/)"
      ]
    },
    {
      "cell_type": "markdown",
      "metadata": {
        "id": "2y3NzK9EKMX5"
      },
      "source": [
        "# Setup\n",
        "\n",
        "[Installation Guide](https://docs.manim.community/en/stable/installation.html)\n",
        "\n",
        "Run this cell to get started."
      ]
    },
    {
      "cell_type": "code",
      "execution_count": null,
      "metadata": {
        "id": "0JEfE0XMKGpl"
      },
      "outputs": [],
      "source": [
        "from IPython.display import clear_output\n",
        "\n",
        "!sudo apt update\n",
        "\n",
        "!sudo apt install libcairo2-dev libpango1.0-dev ffmpeg\n",
        "\n",
        "# # LaTeX installation\n",
        "# !sudo apt install texlive texlive-latex-extra\n",
        "\n",
        "# # LaTeX additional packages\n",
        "# !sudo apt install texlive-science texlive-fonts-extra\n",
        "\n",
        "!pip install manim\n",
        "\n",
        "clear_output() # clears cell output\n",
        "\n",
        "!manim --version\n",
        "\n",
        "exit() # restarts runtime"
      ]
    },
    {
      "cell_type": "markdown",
      "metadata": {
        "id": "_Os8BXq_VrBt"
      },
      "source": [
        "# Imports"
      ]
    },
    {
      "cell_type": "code",
      "execution_count": null,
      "metadata": {
        "id": "YRPPOIftWHEV"
      },
      "outputs": [],
      "source": [
        "from manim import *\n",
        "config.disable_caching = True\n",
        "config.verbosity = \"WARNING\""
      ]
    },
    {
      "cell_type": "markdown",
      "metadata": {
        "id": "hACC1RhFcoH8"
      },
      "source": [
        "# Example\n",
        "\n",
        "```python\n",
        "%%manim -ql NewScene\n",
        "class NewScene(Scene):\n",
        "    def construct(self):\n",
        "      ...  \n",
        "```\n",
        "\n",
        "The first line of code, `%%manim -ql NewScene` is a magic command, it only works within Jupyter notebooks. The flag `-ql` specifies low render quality (480p, 15fps), followed by the name of the scene class.\n",
        "\n",
        "The other options for render quality are `-qm`, `-qh`, and `-qk` for medium (720p, 30fps), high (1080p, 60fps), and 4k (2160p, 60fps) quality, respectively.\n",
        "\n",
        "This animation expands Manim's logo into its banner.  [[source]](https://docs.manim.community/en/stable/reference/manim.mobject.logo.ManimBanner.html)"
      ]
    },
    {
      "cell_type": "code",
      "execution_count": null,
      "metadata": {
        "id": "bN7o0aSeVqpX"
      },
      "outputs": [],
      "source": [
        "%%manim -ql DarkThemeBanner\n",
        "\n",
        "class DarkThemeBanner(Scene):\n",
        "    def construct(self):\n",
        "        banner = ManimBanner()\n",
        "        self.play(banner.create())\n",
        "        self.play(banner.expand())\n",
        "        self.wait()"
      ]
    },
    {
      "cell_type": "markdown",
      "source": [
        "# New Scene"
      ],
      "metadata": {
        "id": "u-IxYbzqusko"
      }
    },
    {
      "cell_type": "code",
      "source": [
        "%%manim -ql NewScene\n",
        "\n",
        "class NewScene(Scene):\n",
        "    def construct(self):\n",
        "      # code below\n"
      ],
      "metadata": {
        "id": "AFWQRDnruvXj"
      },
      "execution_count": null,
      "outputs": []
    }
  ],
  "metadata": {
    "colab": {
      "provenance": [],
      "authorship_tag": "ABX9TyNUcfkFlt0z10tk2KwwKdlm",
      "include_colab_link": true
    },
    "kernelspec": {
      "display_name": "Python 3",
      "name": "python3"
    },
    "language_info": {
      "name": "python"
    }
  },
  "nbformat": 4,
  "nbformat_minor": 0
}